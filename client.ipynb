{
 "cells": [
  {
   "cell_type": "code",
   "execution_count": 1,
   "metadata": {
    "ExecuteTime": {
     "end_time": "2023-04-03T23:50:33.142795Z",
     "start_time": "2023-04-03T23:50:28.890513Z"
    }
   },
   "outputs": [
    {
     "name": "stdout",
     "output_type": "stream",
     "text": [
      "Requirement already satisfied: mysql-connector-python in c:\\python311\\lib\\site-packages (8.0.32)\n",
      "Requirement already satisfied: protobuf<=3.20.3,>=3.11.0 in c:\\python311\\lib\\site-packages (from mysql-connector-python) (3.20.3)\n",
      "Note: you may need to restart the kernel to use updated packages.\n"
     ]
    }
   ],
   "source": [
    "%pip install mysql-connector-python"
   ]
  },
  {
   "cell_type": "code",
   "execution_count": 2,
   "metadata": {
    "ExecuteTime": {
     "end_time": "2023-04-03T23:50:53.933357Z",
     "start_time": "2023-04-03T23:50:53.375832Z"
    }
   },
   "outputs": [],
   "source": [
    "import mysql.connector as connector\n",
    "connection = connector.connect(user = \"root\", password = \"\")"
   ]
  },
  {
   "cell_type": "code",
   "execution_count": 3,
   "metadata": {
    "ExecuteTime": {
     "end_time": "2023-04-03T23:50:54.742857Z",
     "start_time": "2023-04-03T23:50:54.707767Z"
    }
   },
   "outputs": [],
   "source": [
    "cursor = connection.cursor()"
   ]
  },
  {
   "cell_type": "code",
   "execution_count": 4,
   "metadata": {
    "ExecuteTime": {
     "end_time": "2023-04-03T23:50:56.244934Z",
     "start_time": "2023-04-03T23:50:56.162335Z"
    }
   },
   "outputs": [],
   "source": [
    "query = \"\"\"use mydb\"\"\"\n",
    "cursor.execute(set_database)"
   ]
  },
  {
   "cell_type": "code",
   "execution_count": 5,
   "metadata": {
    "ExecuteTime": {
     "end_time": "2023-04-03T23:50:58.199240Z",
     "start_time": "2023-04-03T23:50:58.086411Z"
    }
   },
   "outputs": [],
   "source": [
    "show_tables_query = \"show tables\" \n",
    "results=cursor.execute(show_tables_query)"
   ]
  },
  {
   "cell_type": "code",
   "execution_count": 6,
   "metadata": {
    "ExecuteTime": {
     "end_time": "2023-04-03T23:51:00.323070Z",
     "start_time": "2023-04-03T23:51:00.241581Z"
    }
   },
   "outputs": [
    {
     "name": "stdout",
     "output_type": "stream",
     "text": [
      "('booking',)\n",
      "('bookings',)\n",
      "('customer',)\n",
      "('customers',)\n",
      "('deliverystatus',)\n",
      "('menu',)\n",
      "('order_delivery_status',)\n",
      "('orders',)\n",
      "('staff',)\n"
     ]
    }
   ],
   "source": [
    "tables = cursor.fetchall()\n",
    "for i in tables:\n",
    "    print(i)"
   ]
  },
  {
   "cell_type": "code",
   "execution_count": 7,
   "metadata": {
    "ExecuteTime": {
     "end_time": "2023-04-03T23:51:02.049933Z",
     "start_time": "2023-04-03T23:51:02.005793Z"
    }
   },
   "outputs": [],
   "source": [
    "join_query = \"\"\"\n",
    "    select customers.FullName,\n",
    "    bookings.BookingID, \n",
    "    customers.Email\n",
    "    customers.PhoneNumber\n",
    "    from customers  join Bookings  on customers.BookingID = bookings.BookingID\n",
    "    join orders  on bookings.BookingID = orders.BookingID\n",
    "    where orders.TotalCost > 60 order by orders.TotalCost desc; \n",
    "\"\"\"\n",
    "cursor.execute(join_query)"
   ]
  },
  {
   "cell_type": "code",
   "execution_count": 8,
   "metadata": {
    "ExecuteTime": {
     "end_time": "2023-04-03T23:51:03.327442Z",
     "start_time": "2023-04-03T23:51:03.235006Z"
    }
   },
   "outputs": [
    {
     "name": "stdout",
     "output_type": "stream",
     "text": [
      "There are 0 customer with more than 60$ purchase amount\n",
      "Top customers: ...\n"
     ]
    }
   ],
   "source": [
    "customers = cursor.fetchall()\n",
    "print(f'There are {len(customers)} customer with more than 60$ purchase amount')\n",
    "print(\"Top customers: ...\")\n",
    "for customer in customers:\n",
    "    \n",
    "    print(f'Full Name: \\t {customer[0]}')\n",
    "    print(f'Email: \\t\\t {customer[2]}')\n",
    "    print(f'Phone Number: \\t {customer[3]}')\n",
    "    print(f'Has spent: \\t {float(customer[1])}')"
   ]
  },
  {
   "cell_type": "code",
   "execution_count": null,
   "metadata": {
    "collapsed": false,
    "jupyter": {
     "outputs_hidden": false
    }
   },
   "outputs": [],
   "source": []
  }
 ],
 "metadata": {
  "kernelspec": {
   "display_name": "Python 3 (ipykernel)",
   "language": "python",
   "name": "python3"
  },
  "language_info": {
   "codemirror_mode": {
    "name": "ipython",
    "version": 3
   },
   "file_extension": ".py",
   "mimetype": "text/x-python",
   "name": "python",
   "nbconvert_exporter": "python",
   "pygments_lexer": "ipython3",
   "version": "3.11.4"
  }
 },
 "nbformat": 4,
 "nbformat_minor": 4
}
